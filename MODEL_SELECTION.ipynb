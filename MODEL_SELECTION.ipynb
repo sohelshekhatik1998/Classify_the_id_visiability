{
 "cells": [
  {
   "cell_type": "markdown",
   "id": "97440dfd",
   "metadata": {},
   "source": [
    "https://github.com/AnilOsmanTur/Classifying-The-ID-Visibility/blob/master/notebooks/4.%20Training%20splits%20and%20Training%20data.ipynb"
   ]
  },
  {
   "cell_type": "code",
   "execution_count": 1,
   "id": "459d7c92",
   "metadata": {},
   "outputs": [
    {
     "name": "stdout",
     "output_type": "stream",
     "text": [
      "Collecting pytorch\n",
      "  Using cached pytorch-1.0.2.tar.gz (689 bytes)\n",
      "  Preparing metadata (setup.py): started\n",
      "  Preparing metadata (setup.py): finished with status 'done'\n",
      "Building wheels for collected packages: pytorch\n",
      "  Building wheel for pytorch (setup.py): started\n",
      "  Building wheel for pytorch (setup.py): finished with status 'error'\n",
      "  Running setup.py clean for pytorch\n",
      "Failed to build pytorch\n",
      "Installing collected packages: pytorch\n",
      "  Running setup.py install for pytorch: started\n",
      "  Running setup.py install for pytorch: finished with status 'error'\n"
     ]
    },
    {
     "name": "stderr",
     "output_type": "stream",
     "text": [
      "  error: subprocess-exited-with-error\n",
      "  \n",
      "  python setup.py bdist_wheel did not run successfully.\n",
      "  exit code: 1\n",
      "  \n",
      "  [6 lines of output]\n",
      "  Traceback (most recent call last):\n",
      "    File \"<string>\", line 2, in <module>\n",
      "    File \"<pip-setuptools-caller>\", line 34, in <module>\n",
      "    File \"C:\\Users\\SHAIKH SOHEL\\AppData\\Local\\Temp\\pip-install-14l37iwu\\pytorch_6d04c5a930b84ec4bbfdd5ed3d9c8b8b\\setup.py\", line 15, in <module>\n",
      "      raise Exception(message)\n",
      "  Exception: You tried to install \"pytorch\". The package named for PyTorch is \"torch\"\n",
      "  [end of output]\n",
      "  \n",
      "  note: This error originates from a subprocess, and is likely not a problem with pip.\n",
      "  ERROR: Failed building wheel for pytorch\n",
      "  error: subprocess-exited-with-error\n",
      "  \n",
      "  Running setup.py install for pytorch did not run successfully.\n",
      "  exit code: 1\n",
      "  \n",
      "  [6 lines of output]\n",
      "  Traceback (most recent call last):\n",
      "    File \"<string>\", line 2, in <module>\n",
      "    File \"<pip-setuptools-caller>\", line 34, in <module>\n",
      "    File \"C:\\Users\\SHAIKH SOHEL\\AppData\\Local\\Temp\\pip-install-14l37iwu\\pytorch_6d04c5a930b84ec4bbfdd5ed3d9c8b8b\\setup.py\", line 11, in <module>\n",
      "      raise Exception(message)\n",
      "  Exception: You tried to install \"pytorch\". The package named for PyTorch is \"torch\"\n",
      "  [end of output]\n",
      "  \n",
      "  note: This error originates from a subprocess, and is likely not a problem with pip.\n",
      "error: legacy-install-failure\n",
      "\n",
      "Encountered error while trying to install package.\n",
      "\n",
      "pytorch\n",
      "\n",
      "note: This is an issue with the package mentioned above, not pip.\n",
      "hint: See above for output from the failure.\n"
     ]
    }
   ],
   "source": [
    "!pip install pytorch"
   ]
  },
  {
   "cell_type": "code",
   "execution_count": 2,
   "id": "3579a3c9",
   "metadata": {},
   "outputs": [],
   "source": [
    "import numpy as np\n",
    "import cv2\n",
    "import os\n",
    "import pandas as pd\n",
    "import matplotlib.pyplot as plt"
   ]
  },
  {
   "cell_type": "markdown",
   "id": "ae976e6f",
   "metadata": {},
   "source": [
    "Model Selection"
   ]
  },
  {
   "cell_type": "code",
   "execution_count": 3,
   "id": "bdb58087",
   "metadata": {},
   "outputs": [
    {
     "name": "stderr",
     "output_type": "stream",
     "text": [
      "C:\\Users\\SHAIKH SOHEL\\anaconda3\\lib\\site-packages\\requests\\__init__.py:109: RequestsDependencyWarning: urllib3 (1.26.9) or chardet (2.0.3)/charset_normalizer (2.0.4) doesn't match a supported version!\n",
      "  warnings.warn(\n"
     ]
    }
   ],
   "source": [
    "import torch\n",
    "import torch.nn as nn\n",
    "import torchvision.models as models\n",
    "from torchvision import transforms\n"
   ]
  },
  {
   "cell_type": "markdown",
   "id": "e4832cf5",
   "metadata": {},
   "source": [
    "Deep feature extractor"
   ]
  },
  {
   "cell_type": "code",
   "execution_count": 4,
   "id": "91148b67",
   "metadata": {},
   "outputs": [
    {
     "name": "stderr",
     "output_type": "stream",
     "text": [
      "C:\\Users\\SHAIKH SOHEL\\anaconda3\\lib\\site-packages\\torchvision\\models\\_utils.py:208: UserWarning: The parameter 'pretrained' is deprecated since 0.13 and may be removed in the future, please use 'weights' instead.\n",
      "  warnings.warn(\n",
      "C:\\Users\\SHAIKH SOHEL\\anaconda3\\lib\\site-packages\\torchvision\\models\\_utils.py:223: UserWarning: Arguments other than a weight enum or `None` for 'weights' are deprecated since 0.13 and may be removed in the future. The current behavior is equivalent to passing `weights=MobileNet_V2_Weights.IMAGENET1K_V1`. You can also use `weights=MobileNet_V2_Weights.DEFAULT` to get the most up-to-date weights.\n",
      "  warnings.warn(msg)\n",
      "Downloading: \"https://download.pytorch.org/models/mobilenet_v2-b0353104.pth\" to C:\\Users\\SHAIKH SOHEL/.cache\\torch\\hub\\checkpoints\\mobilenet_v2-b0353104.pth\n"
     ]
    },
    {
     "data": {
      "application/vnd.jupyter.widget-view+json": {
       "model_id": "049c7df5480e4edaa571ab5a84ffced5",
       "version_major": 2,
       "version_minor": 0
      },
      "text/plain": [
       "  0%|          | 0.00/13.6M [00:00<?, ?B/s]"
      ]
     },
     "metadata": {},
     "output_type": "display_data"
    },
    {
     "name": "stdout",
     "output_type": "stream",
     "text": [
      "Conv2d(3, 32, kernel_size=(3, 3), stride=(2, 2), padding=(1, 1), bias=False)\n",
      "torch.Size([32, 3, 3, 3])\n"
     ]
    }
   ],
   "source": [
    "mobilenet_feature = models.mobilenet_v2(pretrained=True).features\n",
    "print(mobilenet_feature[0][0])\n",
    "print(mobilenet_feature[0][0].weight.shape)\n",
    "# this is what we have pretrained and loaded"
   ]
  },
  {
   "cell_type": "code",
   "execution_count": 5,
   "id": "3bcc90b3",
   "metadata": {},
   "outputs": [
    {
     "name": "stdout",
     "output_type": "stream",
     "text": [
      "torch.Size([32, 1, 3, 3])\n"
     ]
    }
   ],
   "source": [
    "one_Channel = nn.Conv2d(1, 32, kernel_size=(3, 3), stride=(2, 2), padding=(1, 1), bias=False)\n",
    "print(one_Channel.weight.shape)\n",
    "# but this is what we need to make the model functional for single-channel input\n"
   ]
  },
  {
   "cell_type": "code",
   "execution_count": 21,
   "id": "0b747130",
   "metadata": {},
   "outputs": [
    {
     "name": "stdout",
     "output_type": "stream",
     "text": [
      "torch.Size([32, 1, 3, 3])\n"
     ]
    }
   ],
   "source": [
    "# so this will give us what we need\n",
    "one_kernel = mobilenet_feature[0][0].weight[:,1]\n",
    "one_kernel = torch.unsqueeze(one_kernel, dim=1).data\n",
    "print(one_kernel.shape)\n",
    "# now we can change the layer and save the weights\n",
    "one_Channel.weight.data = one_kernel\n",
    "mobilenet_feature[0][0] = one_Channel\n",
    "torch.save(mobilenet_feature.state_dict(),r\"C:\\Users\\SHAIKH SOHEL\\Downloads\\images-20221209T180836Z-001\\modified_mobilenet_v2_features_state_dict.pth\")\n"
   ]
  },
  {
   "cell_type": "code",
   "execution_count": 8,
   "id": "12e9c2e6",
   "metadata": {},
   "outputs": [
    {
     "data": {
      "text/plain": [
       "<All keys matched successfully>"
      ]
     },
     "execution_count": 8,
     "metadata": {},
     "output_type": "execute_result"
    }
   ],
   "source": [
    "# let's test, does it load properly and give us the modified model\n",
    "mobilenet_feature = models.mobilenet_v2(pretrained=True).features\n",
    "mobilenet_feature[0][0] = nn.Conv2d(1, 32, kernel_size=(3, 3), stride=(2, 2), padding=(1, 1), bias=False)\n",
    "mobilenet_feature.load_state_dict(torch.load(r\"C:\\Users\\SHAIKH SOHEL\\Downloads\\images-20221209T180836Z-001\\modified_mobilenet_v2_features_state_dict.pth\"))"
   ]
  },
  {
   "cell_type": "code",
   "execution_count": 9,
   "id": "928cb3d6",
   "metadata": {},
   "outputs": [],
   "source": [
    "# Dataset class to make loading easy and compatible with pytorch\n",
    "class CardImageDataset():\n",
    "    def __init__(self, root_dir=r\"C:\\Users\\SHAIKH SOHEL\\Downloads\\images-20221209T180836Z-001\", header_file='gicsd_labels.csv', image_dir='images'):\n",
    "        '''\n",
    "        root_dir: location of the dataset dir\n",
    "        header_file: location of the dataset header in the dataset directory\n",
    "        image_dir: location of the images\n",
    "        '''\n",
    "        header_path = os.path.join(root_dir,header_file)\n",
    "        self.data_header = pd.read_csv(header_path, sep=', ', engine='python')\n",
    "        self.image_dir = os.path.join(root_dir,image_dir)\n",
    "        \n",
    "        self.header_info, self.image_files, self.classes = self.header_info_extractor()\n",
    "        self.length = len(self.image_files)\n",
    "        \n",
    "    def __len__(self):\n",
    "        return self.length\n",
    "        \n",
    "    def __getitem__(self, idx):\n",
    "        gray_image = self.load_image(self.image_files[idx])\n",
    "        label = torch.LongTensor([self.header_info[idx,-1]])\n",
    "        return {'image': gray_image, 'label': label}\n",
    "        \n",
    "    def load_image(self, image_file):\n",
    "        '''\n",
    "        image_file: file name of the image in dataset\n",
    "        return: blue channel of the loaded image\n",
    "        '''\n",
    "        file_path = os.path.join(self.image_dir, image_file)\n",
    "        frame = cv2.imread(file_path)[:,:,0].astype(np.float32)\n",
    "        frame = torch.from_numpy(frame)\n",
    "        frame /= 255\n",
    "        frame = torch.unsqueeze(frame, dim=0)\n",
    "        frame = transforms.functional.normalize(frame,\n",
    "                                        mean=[0.406],\n",
    "                                        std=[0.225])\n",
    "        return frame\n",
    "    \n",
    "    def header_info_extractor(self):\n",
    "        image_files = list(self.data_header['IMAGE_FILENAME'].values)\n",
    "        labels = self.data_header['LABEL'].values.astype(str)\n",
    "        label_set = sorted(list(set(labels)))\n",
    "\n",
    "        new_data_block = []\n",
    "        for row in zip(image_files, labels):\n",
    "            file_name = row[0].split('_')\n",
    "            new_data_block.append(file_name[1:-1] + [row[1]])    \n",
    "        new_data_block = np.array(new_data_block)\n",
    "\n",
    "        # chaning labels to numbers can help data processing\n",
    "        for i, x in enumerate(label_set):\n",
    "            new_data_block[new_data_block[:,-1] == x,-1] = i\n",
    "        new_data_block = new_data_block.astype(np.int)\n",
    "        return new_data_block, image_files, label_set"
   ]
  },
  {
   "cell_type": "code",
   "execution_count": 10,
   "id": "4da440ea",
   "metadata": {},
   "outputs": [
    {
     "name": "stdout",
     "output_type": "stream",
     "text": [
      "torch.Size([1, 192, 192])\n"
     ]
    },
    {
     "name": "stderr",
     "output_type": "stream",
     "text": [
      "C:\\Users\\SHAIKH SOHEL\\AppData\\Local\\Temp\\ipykernel_21616\\2234616875.py:53: DeprecationWarning: `np.int` is a deprecated alias for the builtin `int`. To silence this warning, use `int` by itself. Doing this will not modify any behavior and is safe. When replacing `np.int`, you may wish to use e.g. `np.int64` or `np.int32` to specify the precision. If you wish to review your current use, check the release note link for additional information.\n",
      "Deprecated in NumPy 1.20; for more details and guidance: https://numpy.org/devdocs/release/1.20.0-notes.html#deprecations\n",
      "  new_data_block = new_data_block.astype(np.int)\n"
     ]
    },
    {
     "data": {
      "text/plain": [
       "<matplotlib.image.AxesImage at 0x2586ad6e820>"
      ]
     },
     "execution_count": 10,
     "metadata": {},
     "output_type": "execute_result"
    },
    {
     "data": {
      "image/png": "[encoded data removed]",
      "text/plain": [
       "<Figure size 432x288 with 1 Axes>"
      ]
     },
     "metadata": {
      "needs_background": "light"
     },
     "output_type": "display_data"
    }
   ],
   "source": [
    "dataset = CardImageDataset(root_dir=r\"C:\\Users\\SHAIKH SOHEL\\Downloads\\images-20221209T180836Z-001\", header_file='gicsd_labels.csv', image_dir='images')\n",
    "\n",
    "test_image = dataset[0]['image']\n",
    "print(test_image.shape)\n",
    "plt.imshow(test_image[0])"
   ]
  },
  {
   "cell_type": "code",
   "execution_count": 11,
   "id": "6e2a778f",
   "metadata": {},
   "outputs": [
    {
     "name": "stdout",
     "output_type": "stream",
     "text": [
      "torch.Size([1, 1280, 6, 6])\n"
     ]
    }
   ],
   "source": [
    "# try the forward pass of our feature model\n",
    "test_image = torch.unsqueeze(test_image, dim=0)\n",
    "with torch.no_grad():\n",
    "    features = mobilenet_feature(test_image)\n",
    "print(features.shape)"
   ]
  },
  {
   "cell_type": "markdown",
   "id": "c8ddff34",
   "metadata": {},
   "source": [
    "Creating the classification model"
   ]
  },
  {
   "cell_type": "code",
   "execution_count": 14,
   "id": "9224a3a8",
   "metadata": {},
   "outputs": [],
   "source": [
    "from collections import OrderedDict\n",
    "\n",
    "class CardModel(nn.Module):\n",
    "    def __init__(self):\n",
    "        super(CardModel, self).__init__()\n",
    "        \n",
    "        self.features = models.mobilenet_v2(pretrained=True).features\n",
    "        self.features[0][0] = nn.Conv2d(1, 32, kernel_size=(3, 3), stride=(2, 2), padding=(1, 1), bias=False)\n",
    "        self.features.load_state_dict(torch.load(r\"C:\\Users\\SHAIKH SOHEL\\Downloads\\images-20221209T180836Z-001\\modified_mobilenet_v2_features_state_dict.pth\"))\n",
    "        \n",
    "        self.classifier = nn.Sequential(OrderedDict([\n",
    "            ('g_pool', nn.AdaptiveMaxPool2d(1)),\n",
    "            ('flatten', nn.Flatten()),\n",
    "            ('linear_1', nn.Linear(1280, 512)),\n",
    "            ('act_1', nn.LeakyReLU()),\n",
    "            \n",
    "            ('linear_2', nn.Linear(512, 128)),\n",
    "            ('act_2', nn.LeakyReLU()),\n",
    "            \n",
    "            ('linear_3', nn.Linear(128, 3)),\n",
    "            ]))\n",
    "        \n",
    "        self.loss_1 = nn.CrossEntropyLoss()\n",
    "    \n",
    "    def forward(self, x):\n",
    "        \n",
    "        x = self.features(x)\n",
    "        x = self.classifier(x)\n",
    "\n",
    "        return x\n"
   ]
  },
  {
   "cell_type": "code",
   "execution_count": 15,
   "id": "3a153ae5",
   "metadata": {},
   "outputs": [
    {
     "name": "stdout",
     "output_type": "stream",
     "text": [
      "tensor([0])\n",
      "torch.Size([1, 1, 192, 192])\n",
      "loss:  tensor(1.2244)\n",
      "torch.Size([1, 3])\n",
      "tensor([[-0.1538, -0.7136,  0.4511]])\n"
     ]
    }
   ],
   "source": [
    "cardNet = CardModel()\n",
    "test_sample = dataset[0] \n",
    "test_image = test_sample['image']\n",
    "label = test_sample['label']\n",
    "\n",
    "test_image = torch.unsqueeze(test_image, dim=0)\n",
    "print(label)\n",
    "print(test_image.shape)\n",
    "with torch.no_grad():\n",
    "    out = cardNet(test_image)\n",
    "    print('loss: ', cardNet.loss_1(out, label))\n",
    "print(out.shape)\n",
    "print(out)\n"
   ]
  },
  {
   "cell_type": "code",
   "execution_count": 16,
   "id": "a3979310",
   "metadata": {},
   "outputs": [
    {
     "name": "stdout",
     "output_type": "stream",
     "text": [
      "torch.Size([1, 1, 192, 192])\n",
      "torch.Size([1, 3, 192, 192])\n"
     ]
    }
   ],
   "source": [
    "test_image = dataset[0]['image']\n",
    "test_image_1c = torch.unsqueeze(test_image, dim=0)\n",
    "print(test_image_1c.shape)\n",
    "\n",
    "test_image_3c = torch.cat([test_image,test_image,test_image],dim=0)\n",
    "test_image_3c = torch.unsqueeze(test_image_3c, dim=0)\n",
    "print(test_image_3c.shape)"
   ]
  },
  {
   "cell_type": "code",
   "execution_count": 17,
   "id": "91241f28",
   "metadata": {},
   "outputs": [
    {
     "name": "stdout",
     "output_type": "stream",
     "text": [
      "Conv2d(3, 32, kernel_size=(3, 3), stride=(2, 2), padding=(1, 1), bias=False)\n",
      "torch.Size([1, 32, 96, 96])\n"
     ]
    }
   ],
   "source": [
    "mobilenet_feature = models.mobilenet_v2(pretrained=True).features\n",
    "print(mobilenet_feature[0][0])\n",
    "\n",
    "out_3c = mobilenet_feature[0][0](test_image_3c)\n",
    "print(out_3c.shape)"
   ]
  },
  {
   "cell_type": "code",
   "execution_count": 18,
   "id": "c06328d2",
   "metadata": {},
   "outputs": [
    {
     "name": "stdout",
     "output_type": "stream",
     "text": [
      "torch.Size([1, 32, 96, 96])\n"
     ]
    }
   ],
   "source": [
    "one_Channel = nn.Conv2d(1, 32, kernel_size=(3, 3), stride=(2, 2), padding=(1, 1), bias=False)\n",
    "one_kernel = mobilenet_feature[0][0].weight[:,2]\n",
    "one_kernel = torch.unsqueeze(one_kernel, dim=1).data\n",
    "one_Channel.weight.data = one_kernel\n",
    "\n",
    "out_1c = one_Channel(test_image_1c)\n",
    "print(out_1c.shape)"
   ]
  },
  {
   "cell_type": "code",
   "execution_count": 20,
   "id": "18f19c20",
   "metadata": {},
   "outputs": [
    {
     "name": "stdout",
     "output_type": "stream",
     "text": [
      "1 channel sum: -1193.0859375\n",
      "3 channel sum: -1045.2738037109375\n",
      "1 channel avg: -0.004045566078275442\n",
      "3 channel avg: -0.003544358303770423\n",
      "1 channel median: 0.0002143416932085529\n",
      "3 channel median: 0.0010061765788123012\n",
      "1 channel std: 0.6812583208084106\n",
      "3 channel std: 0.828816831111908\n",
      "l1 loss:  tensor(0.5187, grad_fn=<MeanBackward0>)\n",
      "mse loss:  tensor(0.7811, grad_fn=<MseLossBackward0>)\n"
     ]
    }
   ],
   "source": [
    "print('1 channel sum: {}\\n3 channel sum: {}'.format(out_1c.sum(), out_3c.sum()))\n",
    "print('1 channel avg: {}\\n3 channel avg: {}'.format(out_1c.mean(), out_3c.mean()))\n",
    "print('1 channel median: {}\\n3 channel median: {}'.format(out_1c.median(), out_3c.median()))\n",
    "print('1 channel std: {}\\n3 channel std: {}'.format(out_1c.std(), out_3c.std()))\n",
    "print('l1 loss: ', nn.functional.l1_loss(out_1c, out_3c))\n",
    "print('mse loss: ', nn.functional.mse_loss(out_1c, out_3c))"
   ]
  },
  {
   "cell_type": "code",
   "execution_count": null,
   "id": "d4c3ddb2",
   "metadata": {},
   "outputs": [],
   "source": []
  },
  {
   "cell_type": "code",
   "execution_count": null,
   "id": "111f4f09",
   "metadata": {},
   "outputs": [],
   "source": []
  },
  {
   "cell_type": "code",
   "execution_count": null,
   "id": "1ee29dd6",
   "metadata": {},
   "outputs": [],
   "source": []
  },
  {
   "cell_type": "code",
   "execution_count": null,
   "id": "74fcbe95",
   "metadata": {},
   "outputs": [],
   "source": []
  },
  {
   "cell_type": "code",
   "execution_count": null,
   "id": "d12ba313",
   "metadata": {},
   "outputs": [],
   "source": []
  },
  {
   "cell_type": "code",
   "execution_count": null,
   "id": "bd1ade7d",
   "metadata": {},
   "outputs": [],
   "source": []
  }
 ],
 "metadata": {
  "kernelspec": {
   "display_name": "Python 3 (ipykernel)",
   "language": "python",
   "name": "python3"
  },
  "language_info": {
   "codemirror_mode": {
    "name": "ipython",
    "version": 3
   },
   "file_extension": ".py",
   "mimetype": "text/x-python",
   "name": "python",
   "nbconvert_exporter": "python",
   "pygments_lexer": "ipython3",
   "version": "3.9.7"
  }
 },
 "nbformat": 4,
 "nbformat_minor": 5
}
